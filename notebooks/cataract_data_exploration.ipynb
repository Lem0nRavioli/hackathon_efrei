{
 "cells": [
  {
   "cell_type": "code",
   "execution_count": 2,
   "metadata": {},
   "outputs": [
    {
     "name": "stdout",
     "output_type": "stream",
     "text": [
      "Downloading dataset...\n"
     ]
    }
   ],
   "source": [
    "import os, cv2, zipfile, requests, shutil, random\n",
    "\n",
    "import matplotlib.pyplot as plt\n",
    "import seaborn as sns\n",
    "from sklearn.model_selection import train_test_split\n",
    "\n",
    "from pathlib import Path\n",
    "from collections import Counter\n",
    "\n",
    "# download and extract the dataset\n",
    "DATA_DIR = Path(\"../data/raw\")\n",
    "DATA_DIR.mkdir(parents=True, exist_ok=True)\n",
    "\n",
    "url = \"https://www.kaggle.com/api/v1/datasets/download/nandanp6/cataract-image-dataset\"\n",
    "local_zip = DATA_DIR / \"archive.zip\"\n",
    "\n",
    "if not local_zip.exists():\n",
    "    print(\"Downloading dataset...\")\n",
    "    r = requests.get(url, stream=True)\n",
    "    with open(local_zip, 'wb') as f:\n",
    "        shutil.copyfileobj(r.raw, f)\n",
    "\n",
    "    with zipfile.ZipFile(local_zip, 'r') as zip_ref:\n",
    "        zip_ref.extractall(DATA_DIR)"
   ]
  },
  {
   "cell_type": "code",
   "execution_count": null,
   "metadata": {},
   "outputs": [
    {
     "name": "stdout",
     "output_type": "stream",
     "text": [
      "..\\data\\raw\\processed_images\n",
      "                                                path  label  split\n",
      "0  ..\\data\\raw\\processed_images\\test\\normal\\image...      0   test\n",
      "1  ..\\data\\raw\\processed_images\\train\\cataract\\im...      1  train\n",
      "2  ..\\data\\raw\\processed_images\\train\\cataract\\im...      1  train\n",
      "3  ..\\data\\raw\\processed_images\\train\\normal\\imag...      0  train\n",
      "4  ..\\data\\raw\\processed_images\\train\\normal\\imag...      0  train\n"
     ]
    }
   ],
   "source": [
    "import glob\n",
    "import pandas as pd\n",
    "from PIL import Image\n",
    "from tqdm import tqdm\n",
    "\n",
    "# Define the dataset path\n",
    "dataset_path = DATA_DIR / \"processed_images/\"\n",
    "\n",
    "# Initialize a list to store image paths and labels\n",
    "data = []\n",
    "\n",
    "# Iterate through 'train' and 'test' directories\n",
    "for split in ['train', 'test']:\n",
    "    for label in ['normal', 'cataract']:\n",
    "        folder_path = os.path.join(dataset_path, split, label)\n",
    "        image_paths = glob.glob(os.path.join(folder_path, '*.png'))\n",
    "        for img_path in image_paths:\n",
    "            data.append({'path': img_path, 'label': 0 if label == 'normal' else 1, 'split': split})\n",
    "\n",
    "# Create a DataFrame\n",
    "df = pd.DataFrame(data)\n",
    "\n",
    "# Shuffle the DataFrame\n",
    "df = df.sample(frac=1).reset_index(drop=True)\n",
    "\n",
    "# Display the first few rows\n",
    "print(df.head())"
   ]
  }
 ],
 "metadata": {
  "kernelspec": {
   "display_name": "base",
   "language": "python",
   "name": "python3"
  },
  "language_info": {
   "codemirror_mode": {
    "name": "ipython",
    "version": 3
   },
   "file_extension": ".py",
   "mimetype": "text/x-python",
   "name": "python",
   "nbconvert_exporter": "python",
   "pygments_lexer": "ipython3",
   "version": "3.12.7"
  }
 },
 "nbformat": 4,
 "nbformat_minor": 2
}
